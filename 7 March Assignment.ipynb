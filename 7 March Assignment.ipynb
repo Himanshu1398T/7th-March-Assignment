{
 "cells": [
  {
   "cell_type": "markdown",
   "id": "56bf5670",
   "metadata": {},
   "source": [
    "### Q1. What are the three measures of central tendency?\n",
    "\n",
    "#### Ans:"
   ]
  },
  {
   "cell_type": "markdown",
   "id": "0dc22c44",
   "metadata": {},
   "source": [
    "The three measures of central tendency are the mean, median, and mode."
   ]
  },
  {
   "cell_type": "markdown",
   "id": "f985c3e8",
   "metadata": {},
   "source": [
    "### Q2. What is the difference between the mean, median, and mode? How are they used to measure the central tendency of a dataset?\n",
    "\n",
    "#### Ans:"
   ]
  },
  {
   "cell_type": "markdown",
   "id": "88e7299f",
   "metadata": {},
   "source": [
    "The mean, also known as the average, is calculated by summing all the values in a dataset and dividing by the number of values. It is sensitive to outliers and can be influenced by extreme values.\n",
    "\n",
    "The median is the middle value in a dataset when the values are arranged in ascending or descending order. If the dataset has an even number of values, the median is the average of the two middle values. The median is less affected by outliers and extreme values, making it a robust measure of central tendency.\n",
    "\n",
    "The mode is the most frequently occurring value or values in a dataset. It can be useful for categorical or discrete data. Unlike the mean and median, the mode does not consider the actual values but focuses on the frequency of occurrence.\n",
    "\n",
    "These measures provide different perspectives on the central tendency of a dataset. The mean captures the overall average, the median represents the middle value, and the mode identifies the most common value(s)."
   ]
  },
  {
   "cell_type": "markdown",
   "id": "1fd8c8de",
   "metadata": {},
   "source": [
    "### Q3. Measure the three measures of central tendency for the given height data:\n",
    "\n",
    "[178,177,176,177,178.2,178,175,179,180,175,178.9,176.2,177,172.5,178,176.5]\n",
    "\n",
    "#### Ans:"
   ]
  },
  {
   "cell_type": "code",
   "execution_count": 1,
   "id": "7429aa44",
   "metadata": {},
   "outputs": [
    {
     "name": "stdout",
     "output_type": "stream",
     "text": [
      "Mean: 177.01875\n",
      "Median: 177.0\n",
      "Mode: [177.]\n"
     ]
    },
    {
     "name": "stderr",
     "output_type": "stream",
     "text": [
      "C:\\Users\\PC\\AppData\\Local\\Temp\\ipykernel_24624\\1098851107.py:13: FutureWarning: Unlike other reduction functions (e.g. `skew`, `kurtosis`), the default behavior of `mode` typically preserves the axis it acts along. In SciPy 1.11.0, this behavior will change: the default value of `keepdims` will become False, the `axis` over which the statistic is taken will be eliminated, and the value None will no longer be accepted. Set `keepdims` to True or False to avoid this warning.\n",
      "  mode = stats.mode(height_data)\n"
     ]
    }
   ],
   "source": [
    "import numpy as np\n",
    "from scipy import stats\n",
    "\n",
    "height_data = [178, 177, 176, 177, 178.2, 178, 175, 179, 180, 175, 178.9, 176.2, 177, 172.5, 178, 176.5]\n",
    "\n",
    "# Mean\n",
    "mean = np.mean(height_data)\n",
    "\n",
    "# Median\n",
    "median = np.median(height_data)\n",
    "\n",
    "# Mode\n",
    "mode = stats.mode(height_data)\n",
    "\n",
    "print(\"Mean:\", mean)\n",
    "print(\"Median:\", median)\n",
    "print(\"Mode:\", mode.mode)"
   ]
  },
  {
   "cell_type": "markdown",
   "id": "59932e3a",
   "metadata": {},
   "source": [
    "### Q4. Find the standard deviation for the given data:\n",
    "\n",
    "[178,177,176,177,178.2,178,175,179,180,175,178.9,176.2,177,172.5,178,176.5]\n",
    "\n",
    "#### Ans:"
   ]
  },
  {
   "cell_type": "code",
   "execution_count": 2,
   "id": "7950d029",
   "metadata": {},
   "outputs": [
    {
     "name": "stdout",
     "output_type": "stream",
     "text": [
      "Standard Deviation: 1.7885814036548633\n"
     ]
    }
   ],
   "source": [
    "data = [178, 177, 176, 177, 178.2, 178, 175, 179, 180, 175, 178.9, 176.2, 177, 172.5, 178, 176.5]\n",
    "\n",
    "standard_deviation = np.std(data)\n",
    "\n",
    "print(\"Standard Deviation:\", standard_deviation)"
   ]
  },
  {
   "cell_type": "markdown",
   "id": "65b81267",
   "metadata": {},
   "source": [
    "### Q5. How are measures of dispersion such as range, variance, and standard deviation used to describe the spread of a dataset? Provide an example.\n",
    "\n",
    "#### Ans:"
   ]
  },
  {
   "cell_type": "markdown",
   "id": "4892ea0b",
   "metadata": {},
   "source": [
    "Measures of dispersion, such as range, variance, and standard deviation, are used to describe the spread or variability of a dataset. They provide information about how spread out the values are from the central tendency measures. \n",
    "\n",
    "Range: The range is the simplest measure of dispersion and represents the difference between the maximum and minimum values in a dataset. It gives an indication of the total spread of the data.\n",
    "\n",
    "Example: Consider the dataset of exam scores: [75, 80, 85, 90, 95]. The range is 95 - 75 = 20, indicating that the scores range from a minimum of 75 to a maximum of 95.\n",
    "\n",
    "Variance: Variance measures the average squared deviation of each value from the mean. It quantifies the spread of the data by considering all the values and their distances from the mean. A larger variance indicates greater variability in the dataset.\n",
    "\n",
    "Example: Suppose we have a dataset of the ages of five people: [20, 25, 30, 35, 40].\n",
    "         Find the mean:\n",
    "         mean = (20 + 25 + 30 + 35 + 40) / 5 = 30\n",
    "         Calculate the squared deviations from the mean:\n",
    "         deviations = [(20 - 30)^2, (25 - 30)^2, (30 - 30)^2, (35 - 30)^2, (40 - 30)^2]\n",
    "                    = [100, 25, 0, 25, 100]\n",
    "         Calculate the variance:\n",
    "         variance = sum(deviations) / (n - 1)\n",
    "                  = (100 + 25 + 0 + 25 + 100) / (5 - 1)\n",
    "                  = 250 / 4\n",
    "                  = 62.5\n",
    "\n",
    "Standard Deviation: The standard deviation is the square root of the variance. It provides a measure of dispersion in the same units as the original data, making it more interpretable. A larger standard deviation indicates greater variability in the dataset.\n",
    "\n",
    "Example: Continuing with the previous dataset, the variance was calculated as 62.5.\n",
    "         Take the square root of the variance:\n",
    "         standard_deviation = sqrt(variance)\n",
    "                            = sqrt(62.5)\n",
    "                            ≈ 7.91"
   ]
  },
  {
   "cell_type": "markdown",
   "id": "15e674db",
   "metadata": {},
   "source": [
    "### Q6. What is a Venn diagram?\n",
    "\n",
    "#### Ans:"
   ]
  },
  {
   "cell_type": "markdown",
   "id": "4a9f16f3",
   "metadata": {},
   "source": [
    "A Venn diagram is a graphical representation that uses circles or other shapes to show the relationships and commonalities between different sets or groups of items.\n",
    "\n",
    "In a Venn diagram, each circle or shape represents a set or category, and the overlapping regions indicate the elements that are shared between the sets. The diagram visually illustrates the intersection, union, and differences between the sets, allowing for easy comparison and analysis."
   ]
  },
  {
   "cell_type": "markdown",
   "id": "e3860f59",
   "metadata": {},
   "source": [
    "### Q7. For the two given sets A = (2,3,4,5,6,7) & B = (0,2,6,8,10). Find:\n",
    "\n",
    "(i) A ∪ B\n",
    "\n",
    "(ii) A ∩ B\n",
    "\n",
    "#### Ans:"
   ]
  },
  {
   "cell_type": "markdown",
   "id": "3c37bd0a",
   "metadata": {},
   "source": [
    "(i) A ∪ B (Union of A and B)\n",
    "The union of two sets A and B consists of all the elements that are present in either A or B or both.\n",
    "\n",
    "A ∪ B = {0, 2, 3, 4, 5, 6, 7, 8, 10}\n",
    "\n",
    "(ii) A ∩ B (Intersection of A and B)\n",
    "The intersection of two sets A and B consists of all the elements that are common to both A and B.\n",
    "\n",
    "A ∩ B = {2, 6}"
   ]
  },
  {
   "cell_type": "markdown",
   "id": "9377e4f7",
   "metadata": {},
   "source": [
    "### Q8. What do you understand about skewness in data?\n",
    "\n",
    "#### Ans:"
   ]
  },
  {
   "cell_type": "markdown",
   "id": "fb4879ba",
   "metadata": {},
   "source": [
    "Skewness is a statistical measure that describes the asymmetry or lack of symmetry in the distribution of data points in a dataset. It quantifies the degree and direction of deviation from a perfectly symmetric distribution.\n",
    "\n",
    "In a symmetric distribution, the data is evenly distributed around the mean, and the left and right tails are mirror images of each other. However, in a skewed distribution, the data points tend to be concentrated more on one side of the distribution, resulting in a longer or heavier tail on one side.\n",
    "\n",
    "There are 2 types of skewness:\n",
    "1. Positive Skewness (Right Skewness): In a positively skewed distribution, the tail on the right side of the distribution is longer or more spread out. The mean is typically greater than the median, and the mode may be smaller than the median. This skewness occurs when there are a few extremely large values in the dataset.\n",
    "\n",
    "\n",
    "2. Negative Skewness (Left Skewness): In a negatively skewed distribution, the tail on the left side of the distribution is longer or more spread out. The mean is typically less than the median, and the mode may be larger than the median. This skewness occurs when there are a few extremely small values in the dataset."
   ]
  },
  {
   "cell_type": "markdown",
   "id": "285aa3ec",
   "metadata": {},
   "source": [
    "### Q9. If a data is right skewed then what will be the position of median with respect to mean?\n",
    "\n",
    "#### Ans:"
   ]
  },
  {
   "cell_type": "markdown",
   "id": "386cd957",
   "metadata": {},
   "source": [
    "In a right-skewed distribution, The mean is typically greater than the median, and the mode may be smaller than the median. \n",
    "\n",
    "Therefore, Mode will be on left then median and lastly mean"
   ]
  },
  {
   "cell_type": "markdown",
   "id": "bd29c736",
   "metadata": {},
   "source": [
    "### Q10. Explain the difference between covariance and correlation. How are these measures used in statistical analysis?\n",
    "\n",
    "#### Ans:"
   ]
  },
  {
   "cell_type": "markdown",
   "id": "d0350c10",
   "metadata": {},
   "source": [
    "Covariance measures the linear relationship between two variables but lacks standardized interpretation, while correlation provides a standardized measure of the strength and direction of the linear relationship, making it more widely used in statistical analysis.\n",
    "    \n",
    "In statistical analysis, covariance and correlation are used for similar purposes but with different advantages:\n",
    "\n",
    "Covariance:\n",
    "    Covariance is used to determine the direction and magnitude of the relationship between two variables.\n",
    "    It helps in understanding the nature of the relationship, whether it is positive (both variables increase or decrease together) or negative (one variable increases while the other decreases).\n",
    "    Covariance is used in some statistical models and calculations, such as linear regression, to assess the association between variables.\n",
    "\n",
    "Correlation:\n",
    "    Correlation is widely used in statistical analysis due to its standardized scale, which makes it easier to interpret and compare.\n",
    "    It provides a more precise measure of the strength and direction of the linear relationship between variables.\n",
    "    Correlation is helpful in identifying the presence and strength of relationships, which is useful in fields like finance, social sciences, and data analysis.\n",
    "    It can assist in identifying patterns, making predictions, and assessing the impact of variables on each other."
   ]
  },
  {
   "cell_type": "markdown",
   "id": "a0a1768b",
   "metadata": {},
   "source": [
    "### Q11. What is the formula for calculating the sample mean? Provide an example calculation for a dataset.\n",
    "\n",
    "#### Ans:"
   ]
  },
  {
   "cell_type": "markdown",
   "id": "5e7f9cc4",
   "metadata": {},
   "source": [
    "Sample Mean = (Sum of all the data points) / (Number of data points)\n",
    "\n",
    "Taking an example:\n",
    "\n",
    "Dataset: [12, 15, 18, 20, 22]\n",
    "\n",
    "Step 1: Add up all the data points:\n",
    "12 + 15 + 18 + 20 + 22 = 87\n",
    "\n",
    "Step 2: Count the number of data points:\n",
    "There are 5 data points in the dataset.\n",
    "\n",
    "Step 3: Apply the formula for the sample mean:\n",
    "Sample Mean = Sum of all the data points / Number of data points\n",
    "= 87 / 5\n",
    "= 17.4"
   ]
  },
  {
   "cell_type": "markdown",
   "id": "f32c2d03",
   "metadata": {},
   "source": [
    "### Q12. For a normal distribution data what is the relationship between its measure of central tendency?\n",
    "\n",
    "#### Ans:"
   ]
  },
  {
   "cell_type": "markdown",
   "id": "189b328d",
   "metadata": {},
   "source": [
    "For a normal distribution, the measures of central tendency, namely the mean, median, and mode, are all equal or very close to each other.\n",
    "\n",
    "In a perfectly symmetrical normal distribution:\n",
    "\n",
    "    The mean, median, and mode are all located at the center of the distribution.\n",
    "    They have the same value, resulting in a single peak or mode in the distribution.\n",
    "\n",
    "In a slightly skewed or approximate normal distribution:\n",
    "\n",
    "    The mean, median, and mode are still close to each other but may not be exactly equal.\n",
    "    If there is slight skewness, the mean might be slightly shifted towards the tail of the distribution, while the median and mode remain closer to the center."
   ]
  },
  {
   "cell_type": "markdown",
   "id": "29b7f11a",
   "metadata": {},
   "source": [
    "### Q13. How is covariance different from correlation?\n",
    "\n",
    "#### Ans:"
   ]
  },
  {
   "cell_type": "markdown",
   "id": "153b0dc7",
   "metadata": {},
   "source": [
    "Interpretation:\n",
    "\n",
    "    Covariance measures the extent and direction of the linear relationship between two variables. It indicates how much the variables vary together.\n",
    "\n",
    "    Correlation measures the strength and direction of the linear relationship between two variables. It provides a standardized measure that is not affected by the scale of measurement of the variables.\n",
    "\n",
    "Scale:\n",
    "\n",
    "    Covariance is not standardized and depends on the scale of measurement of the variables. Its value can range from negative infinity to positive infinity.\n",
    "\n",
    "    Correlation is a standardized measure that ranges from -1 to 1. A correlation of -1 indicates a perfect negative linear relationship, a correlation of 1 indicates a perfect positive linear relationship, and a correlation of 0 indicates no linear relationship.\n",
    "\n",
    "Normalization:\n",
    "\n",
    "    Covariance does not have a fixed range or scale, making it difficult to compare the strength of relationships between different pairs of variables.\n",
    "\n",
    "    Correlation standardizes the relationship by dividing the covariance by the product of the standard deviations of the variables. This normalization allows for easier interpretation and comparison of the strength and direction of relationships.\n",
    "\n",
    "Interpretation of strength:\n",
    "\n",
    "    In covariance, the magnitude of the value indicates the strength of the relationship. However, without a standardized scale, it is challenging to determine the degree of association.\n",
    "\n",
    "    In correlation, the magnitude of the value indicates the strength of the linear relationship. Values closer to -1 or 1 indicate a stronger relationship, while values closer to 0 indicate a weaker relationship."
   ]
  },
  {
   "cell_type": "markdown",
   "id": "68842485",
   "metadata": {},
   "source": [
    "### Q14. How do outliers affect measures of central tendency and dispersion? Provide an example.\n",
    "\n",
    "#### Ans:"
   ]
  },
  {
   "cell_type": "markdown",
   "id": "7e0df638",
   "metadata": {},
   "source": [
    "Outliers can significantly affect measures of central tendency and dispersion in a dataset. An outlier is a data point that significantly deviates from the rest of the data and lies at an extreme value.\n",
    "\n",
    "Example:\n",
    "Consider the following dataset of exam scores: [85, 92, 78, 88, 95, 100, 82, 79, 60]. If we introduce an outlier of 200 into the dataset, the impact on measures of central tendency and dispersion would be as follows:\n",
    "\n",
    "1. Mean: The mean would be greatly affected, increasing significantly due to the presence of the outlier.\n",
    "2. Median: The median would be minimally affected since it represents the middle value, which is not influenced by the outlier.\n",
    "3. Range: The range would be impacted, increasing due to the inclusion of the outlier.\n",
    "4. Variance and Standard Deviation: Both measures would be greatly affected, as the squared differences from the mean would be significantly impacted by the outlier."
   ]
  }
 ],
 "metadata": {
  "kernelspec": {
   "display_name": "Python 3 (ipykernel)",
   "language": "python",
   "name": "python3"
  },
  "language_info": {
   "codemirror_mode": {
    "name": "ipython",
    "version": 3
   },
   "file_extension": ".py",
   "mimetype": "text/x-python",
   "name": "python",
   "nbconvert_exporter": "python",
   "pygments_lexer": "ipython3",
   "version": "3.9.13"
  }
 },
 "nbformat": 4,
 "nbformat_minor": 5
}
